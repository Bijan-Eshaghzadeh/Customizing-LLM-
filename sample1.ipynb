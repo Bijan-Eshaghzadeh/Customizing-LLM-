import torch
from transformers import AutoModelForCausalLM, AutoTokenizer, GPT2Config

# Add some hidden layers.
class CustomModel(AutoModelForCausalLM):
    def __init__(self, config):
        super().__init__(config)
        # Add Linear layer.
        self.extra_layer = torch.nn.Linear(config.n_embd, config.n_embd)

    def forward(self, input_ids, attention_mask=None, labels=None):
        outputs = super().forward(input_ids, attention_mask=attention_mask, labels=labels)
        hidden_states = outputs[0]
        # Passing the data through the additional layer
        hidden_states = self.extra_layer(hidden_states)
        return hidden_states

# Loading the tokenizer and model.
model_name = "HuggingFaceH4/zephyr-7b-beta"
tokenizer = AutoTokenizer.from_pretrained(model_name)

# Loading the configuration and creating a custom model.
config = GPT2Config.from_pretrained(model_name)
custom_model = CustomModel(config)

# Now you can use the custom_model.
