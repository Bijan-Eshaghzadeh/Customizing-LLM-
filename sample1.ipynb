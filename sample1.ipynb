{
 "cells": [
  {
   "cell_type": "code",
   "execution_count": null,
   "id": "ff5378d2-7f9a-4f1e-869e-a053762e89cc",
   "metadata": {},
   "outputs": [],
   "source": [
    "import torch\n",
    "from transformers import AutoModelForCausalLM, AutoTokenizer, GPT2Config\n",
    "\n",
    "# Creating a new configuration with additional layers.\n",
    "class CustomModel(AutoModelForCausalLM):\n",
    "    def __init__(self, config):\n",
    "        super().__init__(config)\n",
    "        self.extra_layer = torch.nn.Linear(config.n_embd, config.n_embd)\n",
    "\n",
    "    def forward(self, input_ids, attention_mask=None, labels=None):\n",
    "        outputs = super().forward(input_ids, attention_mask=attention_mask, labels=labels)\n",
    "        hidden_states = outputs[0]\n",
    "        hidden_states = self.extra_layer(hidden_states)\n",
    "        return hidden_states\n",
    "\n",
    "from transformers import AutoModelForCausalLM, AutoTokenizer\n",
    "\n",
    "# Loading the model and tokenizer.\n",
    "model_name = \"HuggingFaceH4/zephyr-7b-beta\"\n",
    "tokenizer = AutoTokenizer.from_pretrained(model_name)\n",
    "model = AutoModelForCausalLM.from_pretrained(model_name)\n",
    "\n",
    "# Saving the model and tokenizer in the standard format.\n",
    "output_directory = \"Projects/newmodels\"\n",
    "model.save_pretrained(output_directory)\n",
    "tokenizer.save_pretrained(output_directory)\n"
   ]
  }
 ],
 "metadata": {
  "kernelspec": {
   "display_name": "Python 3 (ipykernel)",
   "language": "python",
   "name": "python3"
  },
  "language_info": {
   "codemirror_mode": {
    "name": "ipython",
    "version": 3
   },
   "file_extension": ".py",
   "mimetype": "text/x-python",
   "name": "python",
   "nbconvert_exporter": "python",
   "pygments_lexer": "ipython3",
   "version": "3.12.3"
  }
 },
 "nbformat": 4,
 "nbformat_minor": 5
}
