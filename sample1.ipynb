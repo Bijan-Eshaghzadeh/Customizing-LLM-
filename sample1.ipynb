import torch
from transformers import AutoModelForCausalLM, AutoTokenizer, GPT2Config

# Creating a new configuration with additional layers.
class CustomModel(AutoModelForCausalLM):
    def __init__(self, config):
        super().__init__(config)
        self.extra_layer = torch.nn.Linear(config.n_embd, config.n_embd)

    def forward(self, input_ids, attention_mask=None, labels=None):
        outputs = super().forward(input_ids, attention_mask=attention_mask, labels=labels)
        hidden_states = outputs[0]
        hidden_states = self.extra_layer(hidden_states)
        return hidden_states

from transformers import AutoModelForCausalLM, AutoTokenizer

# Loading the model and tokenizer.
model_name = "HuggingFaceH4/zephyr-7b-beta"
tokenizer = AutoTokenizer.from_pretrained(model_name)
model = AutoModelForCausalLM.from_pretrained(model_name)

# Saving the model and tokenizer in the standard format.
output_directory = "Projects/newmodels"
model.save_pretrained(output_directory)
tokenizer.save_pretrained(output_directory)
